{
  "nbformat": 4,
  "nbformat_minor": 0,
  "metadata": {
    "colab": {
      "name": "Pandas_Series_Dataframes.ipynb",
      "provenance": [],
      "authorship_tag": "ABX9TyMWNIhIPFbtO65Hl/gtdWMg",
      "include_colab_link": true
    },
    "kernelspec": {
      "name": "python3",
      "display_name": "Python 3"
    }
  },
  "cells": [
    {
      "cell_type": "markdown",
      "metadata": {
        "id": "view-in-github",
        "colab_type": "text"
      },
      "source": [
        "<a href=\"https://colab.research.google.com/github/afileni/47BDT/blob/main/Pandas_Series_Dataframes.ipynb\" target=\"_parent\"><img src=\"https://colab.research.google.com/assets/colab-badge.svg\" alt=\"Open In Colab\"/></a>"
      ]
    },
    {
      "cell_type": "code",
      "metadata": {
        "id": "7UsKMb7Ml1E7"
      },
      "source": [
        "import pandas as pd\r\n",
        "import numpy as np\r\n"
      ],
      "execution_count": 2,
      "outputs": []
    },
    {
      "cell_type": "code",
      "metadata": {
        "colab": {
          "base_uri": "https://localhost:8080/"
        },
        "id": "vrl8gUbql-4K",
        "outputId": "7e33dd0c-d84d-4511-acc1-e1880b26b8ed"
      },
      "source": [
        "## Séries (se assemelha a vetores)\r\n",
        "notas = pd.Series([2,7,5,10,6])\r\n",
        "notas\r\n",
        "notas.values\r\n",
        "notas.index"
      ],
      "execution_count": 4,
      "outputs": [
        {
          "output_type": "execute_result",
          "data": {
            "text/plain": [
              "RangeIndex(start=0, stop=5, step=1)"
            ]
          },
          "metadata": {
            "tags": []
          },
          "execution_count": 4
        }
      ]
    },
    {
      "cell_type": "code",
      "metadata": {
        "colab": {
          "base_uri": "https://localhost:8080/"
        },
        "id": "D-pjuKWwm0SK",
        "outputId": "bd4f7bf7-b889-4032-9417-0e34e1a82394"
      },
      "source": [
        "notas = pd.Series([2,7,5,10,6], index=[[\"Wilfred\", \"Abbie\", \"Harry\", \"Julia\", \"Carrie\"]\r\n",
        "])\r\n",
        "notas['Julia']\r\n",
        "notas.mean()\r\n",
        "notas.std()"
      ],
      "execution_count": 9,
      "outputs": [
        {
          "output_type": "execute_result",
          "data": {
            "text/plain": [
              "2.9154759474226504"
            ]
          },
          "metadata": {
            "tags": []
          },
          "execution_count": 9
        }
      ]
    },
    {
      "cell_type": "code",
      "metadata": {
        "colab": {
          "base_uri": "https://localhost:8080/"
        },
        "id": "4zFJx9fvnZXT",
        "outputId": "cffc2e5b-bcc3-4dda-9ad9-6b2acefada82"
      },
      "source": [
        "np.log(notas)"
      ],
      "execution_count": 10,
      "outputs": [
        {
          "output_type": "execute_result",
          "data": {
            "text/plain": [
              "Wilfred    0.693147\n",
              "Abbie      1.945910\n",
              "Harry      1.609438\n",
              "Julia      2.302585\n",
              "Carrie     1.791759\n",
              "dtype: float64"
            ]
          },
          "metadata": {
            "tags": []
          },
          "execution_count": 10
        }
      ]
    },
    {
      "cell_type": "code",
      "metadata": {
        "colab": {
          "base_uri": "https://localhost:8080/",
          "height": 284
        },
        "id": "ChzxWDDDnkDT",
        "outputId": "f45f3734-38a1-4f19-dc96-8214a5b12c27"
      },
      "source": [
        "##Dataframe é uma estrutura bidimensional de dados\r\n",
        "df = pd.DataFrame({'Aluno':[\"Wilfred\", \"Abbie\", \"Harry\", \"Julia\", \"Carrie\"], 'Faltas':[3,4,5,1,3], 'Prova': [2,8,7,2,5],'Seminario':[8.5,7.5,4.3,5.4,5.7]})\r\n",
        "df.dtypes\r\n",
        "df.describe() ## estatística básica com analise preliminar dos dados\r\n"
      ],
      "execution_count": 18,
      "outputs": [
        {
          "output_type": "execute_result",
          "data": {
            "text/html": [
              "<div>\n",
              "<style scoped>\n",
              "    .dataframe tbody tr th:only-of-type {\n",
              "        vertical-align: middle;\n",
              "    }\n",
              "\n",
              "    .dataframe tbody tr th {\n",
              "        vertical-align: top;\n",
              "    }\n",
              "\n",
              "    .dataframe thead th {\n",
              "        text-align: right;\n",
              "    }\n",
              "</style>\n",
              "<table border=\"1\" class=\"dataframe\">\n",
              "  <thead>\n",
              "    <tr style=\"text-align: right;\">\n",
              "      <th></th>\n",
              "      <th>Faltas</th>\n",
              "      <th>Prova</th>\n",
              "      <th>Seminario</th>\n",
              "    </tr>\n",
              "  </thead>\n",
              "  <tbody>\n",
              "    <tr>\n",
              "      <th>count</th>\n",
              "      <td>5.00000</td>\n",
              "      <td>5.000000</td>\n",
              "      <td>5.000000</td>\n",
              "    </tr>\n",
              "    <tr>\n",
              "      <th>mean</th>\n",
              "      <td>3.20000</td>\n",
              "      <td>4.800000</td>\n",
              "      <td>6.280000</td>\n",
              "    </tr>\n",
              "    <tr>\n",
              "      <th>std</th>\n",
              "      <td>1.48324</td>\n",
              "      <td>2.774887</td>\n",
              "      <td>1.691745</td>\n",
              "    </tr>\n",
              "    <tr>\n",
              "      <th>min</th>\n",
              "      <td>1.00000</td>\n",
              "      <td>2.000000</td>\n",
              "      <td>4.300000</td>\n",
              "    </tr>\n",
              "    <tr>\n",
              "      <th>25%</th>\n",
              "      <td>3.00000</td>\n",
              "      <td>2.000000</td>\n",
              "      <td>5.400000</td>\n",
              "    </tr>\n",
              "    <tr>\n",
              "      <th>50%</th>\n",
              "      <td>3.00000</td>\n",
              "      <td>5.000000</td>\n",
              "      <td>5.700000</td>\n",
              "    </tr>\n",
              "    <tr>\n",
              "      <th>75%</th>\n",
              "      <td>4.00000</td>\n",
              "      <td>7.000000</td>\n",
              "      <td>7.500000</td>\n",
              "    </tr>\n",
              "    <tr>\n",
              "      <th>max</th>\n",
              "      <td>5.00000</td>\n",
              "      <td>8.000000</td>\n",
              "      <td>8.500000</td>\n",
              "    </tr>\n",
              "  </tbody>\n",
              "</table>\n",
              "</div>"
            ],
            "text/plain": [
              "        Faltas     Prova  Seminario\n",
              "count  5.00000  5.000000   5.000000\n",
              "mean   3.20000  4.800000   6.280000\n",
              "std    1.48324  2.774887   1.691745\n",
              "min    1.00000  2.000000   4.300000\n",
              "25%    3.00000  2.000000   5.400000\n",
              "50%    3.00000  5.000000   5.700000\n",
              "75%    4.00000  7.000000   7.500000\n",
              "max    5.00000  8.000000   8.500000"
            ]
          },
          "metadata": {
            "tags": []
          },
          "execution_count": 18
        }
      ]
    },
    {
      "cell_type": "code",
      "metadata": {
        "colab": {
          "base_uri": "https://localhost:8080/",
          "height": 77
        },
        "id": "-kZQJ02Bphvo",
        "outputId": "1c33fd00-e43a-41d2-ddf2-fd6ef81866d3"
      },
      "source": [
        "df.sort_values(by='Seminario')\r\n",
        "df[(df['Seminario']>6.28) & (df['Prova']>3)]"
      ],
      "execution_count": 23,
      "outputs": [
        {
          "output_type": "execute_result",
          "data": {
            "text/html": [
              "<div>\n",
              "<style scoped>\n",
              "    .dataframe tbody tr th:only-of-type {\n",
              "        vertical-align: middle;\n",
              "    }\n",
              "\n",
              "    .dataframe tbody tr th {\n",
              "        vertical-align: top;\n",
              "    }\n",
              "\n",
              "    .dataframe thead th {\n",
              "        text-align: right;\n",
              "    }\n",
              "</style>\n",
              "<table border=\"1\" class=\"dataframe\">\n",
              "  <thead>\n",
              "    <tr style=\"text-align: right;\">\n",
              "      <th></th>\n",
              "      <th>Aluno</th>\n",
              "      <th>Faltas</th>\n",
              "      <th>Prova</th>\n",
              "      <th>Seminario</th>\n",
              "    </tr>\n",
              "  </thead>\n",
              "  <tbody>\n",
              "    <tr>\n",
              "      <th>1</th>\n",
              "      <td>Abbie</td>\n",
              "      <td>4</td>\n",
              "      <td>8</td>\n",
              "      <td>7.5</td>\n",
              "    </tr>\n",
              "  </tbody>\n",
              "</table>\n",
              "</div>"
            ],
            "text/plain": [
              "   Aluno  Faltas  Prova  Seminario\n",
              "1  Abbie       4      8        7.5"
            ]
          },
          "metadata": {
            "tags": []
          },
          "execution_count": 23
        }
      ]
    },
    {
      "cell_type": "code",
      "metadata": {
        "colab": {
          "base_uri": "https://localhost:8080/",
          "height": 284
        },
        "id": "3bM24IGesL_8",
        "outputId": "840e5813-3a69-49a9-9546-e3e852bd3588"
      },
      "source": [
        "df=pd.read_csv('dados_v3.csv')\r\n",
        "df.dtypes\r\n",
        "df.describe()"
      ],
      "execution_count": 30,
      "outputs": [
        {
          "output_type": "execute_result",
          "data": {
            "text/html": [
              "<div>\n",
              "<style scoped>\n",
              "    .dataframe tbody tr th:only-of-type {\n",
              "        vertical-align: middle;\n",
              "    }\n",
              "\n",
              "    .dataframe tbody tr th {\n",
              "        vertical-align: top;\n",
              "    }\n",
              "\n",
              "    .dataframe thead th {\n",
              "        text-align: right;\n",
              "    }\n",
              "</style>\n",
              "<table border=\"1\" class=\"dataframe\">\n",
              "  <thead>\n",
              "    <tr style=\"text-align: right;\">\n",
              "      <th></th>\n",
              "      <th>condominio</th>\n",
              "      <th>quartos</th>\n",
              "      <th>suites</th>\n",
              "      <th>vagas</th>\n",
              "      <th>area</th>\n",
              "      <th>preco</th>\n",
              "      <th>pm2</th>\n",
              "    </tr>\n",
              "  </thead>\n",
              "  <tbody>\n",
              "    <tr>\n",
              "      <th>count</th>\n",
              "      <td>1997.000000</td>\n",
              "      <td>1997.000000</td>\n",
              "      <td>1997.000000</td>\n",
              "      <td>1997.000000</td>\n",
              "      <td>1997.000000</td>\n",
              "      <td>1.997000e+03</td>\n",
              "      <td>1997.00000</td>\n",
              "    </tr>\n",
              "    <tr>\n",
              "      <th>mean</th>\n",
              "      <td>971.087631</td>\n",
              "      <td>2.128693</td>\n",
              "      <td>1.039559</td>\n",
              "      <td>1.153230</td>\n",
              "      <td>90.051577</td>\n",
              "      <td>1.229410e+06</td>\n",
              "      <td>13256.74635</td>\n",
              "    </tr>\n",
              "    <tr>\n",
              "      <th>std</th>\n",
              "      <td>653.893691</td>\n",
              "      <td>0.793866</td>\n",
              "      <td>0.443091</td>\n",
              "      <td>0.453837</td>\n",
              "      <td>46.417486</td>\n",
              "      <td>1.155809e+06</td>\n",
              "      <td>6977.37614</td>\n",
              "    </tr>\n",
              "    <tr>\n",
              "      <th>min</th>\n",
              "      <td>1.000000</td>\n",
              "      <td>1.000000</td>\n",
              "      <td>0.000000</td>\n",
              "      <td>0.000000</td>\n",
              "      <td>19.000000</td>\n",
              "      <td>1.300000e+05</td>\n",
              "      <td>2600.00000</td>\n",
              "    </tr>\n",
              "    <tr>\n",
              "      <th>25%</th>\n",
              "      <td>550.000000</td>\n",
              "      <td>1.000000</td>\n",
              "      <td>1.000000</td>\n",
              "      <td>1.000000</td>\n",
              "      <td>60.000000</td>\n",
              "      <td>5.600000e+05</td>\n",
              "      <td>7894.74000</td>\n",
              "    </tr>\n",
              "    <tr>\n",
              "      <th>50%</th>\n",
              "      <td>800.000000</td>\n",
              "      <td>2.000000</td>\n",
              "      <td>1.000000</td>\n",
              "      <td>1.000000</td>\n",
              "      <td>80.000000</td>\n",
              "      <td>9.000000e+05</td>\n",
              "      <td>11904.76000</td>\n",
              "    </tr>\n",
              "    <tr>\n",
              "      <th>75%</th>\n",
              "      <td>1200.000000</td>\n",
              "      <td>3.000000</td>\n",
              "      <td>1.000000</td>\n",
              "      <td>1.000000</td>\n",
              "      <td>110.000000</td>\n",
              "      <td>1.550000e+06</td>\n",
              "      <td>17156.86000</td>\n",
              "    </tr>\n",
              "    <tr>\n",
              "      <th>max</th>\n",
              "      <td>7071.000000</td>\n",
              "      <td>3.000000</td>\n",
              "      <td>3.000000</td>\n",
              "      <td>4.000000</td>\n",
              "      <td>475.000000</td>\n",
              "      <td>1.360000e+07</td>\n",
              "      <td>76666.67000</td>\n",
              "    </tr>\n",
              "  </tbody>\n",
              "</table>\n",
              "</div>"
            ],
            "text/plain": [
              "        condominio      quartos  ...         preco          pm2\n",
              "count  1997.000000  1997.000000  ...  1.997000e+03   1997.00000\n",
              "mean    971.087631     2.128693  ...  1.229410e+06  13256.74635\n",
              "std     653.893691     0.793866  ...  1.155809e+06   6977.37614\n",
              "min       1.000000     1.000000  ...  1.300000e+05   2600.00000\n",
              "25%     550.000000     1.000000  ...  5.600000e+05   7894.74000\n",
              "50%     800.000000     2.000000  ...  9.000000e+05  11904.76000\n",
              "75%    1200.000000     3.000000  ...  1.550000e+06  17156.86000\n",
              "max    7071.000000     3.000000  ...  1.360000e+07  76666.67000\n",
              "\n",
              "[8 rows x 7 columns]"
            ]
          },
          "metadata": {
            "tags": []
          },
          "execution_count": 30
        }
      ]
    },
    {
      "cell_type": "code",
      "metadata": {
        "colab": {
          "base_uri": "https://localhost:8080/",
          "height": 195
        },
        "id": "v6jj4_OlvN-x",
        "outputId": "75c1bb2a-5f99-4137-e4c3-e850995cfd52"
      },
      "source": [
        "df.head()\r\n",
        "df.tail()"
      ],
      "execution_count": 32,
      "outputs": [
        {
          "output_type": "execute_result",
          "data": {
            "text/html": [
              "<div>\n",
              "<style scoped>\n",
              "    .dataframe tbody tr th:only-of-type {\n",
              "        vertical-align: middle;\n",
              "    }\n",
              "\n",
              "    .dataframe tbody tr th {\n",
              "        vertical-align: top;\n",
              "    }\n",
              "\n",
              "    .dataframe thead th {\n",
              "        text-align: right;\n",
              "    }\n",
              "</style>\n",
              "<table border=\"1\" class=\"dataframe\">\n",
              "  <thead>\n",
              "    <tr style=\"text-align: right;\">\n",
              "      <th></th>\n",
              "      <th>condominio</th>\n",
              "      <th>quartos</th>\n",
              "      <th>suites</th>\n",
              "      <th>vagas</th>\n",
              "      <th>area</th>\n",
              "      <th>bairro</th>\n",
              "      <th>preco</th>\n",
              "      <th>pm2</th>\n",
              "    </tr>\n",
              "  </thead>\n",
              "  <tbody>\n",
              "    <tr>\n",
              "      <th>1992</th>\n",
              "      <td>1080</td>\n",
              "      <td>3</td>\n",
              "      <td>1.0</td>\n",
              "      <td>1.0</td>\n",
              "      <td>80</td>\n",
              "      <td>Alphavile</td>\n",
              "      <td>680000</td>\n",
              "      <td>8500.00</td>\n",
              "    </tr>\n",
              "    <tr>\n",
              "      <th>1993</th>\n",
              "      <td>750</td>\n",
              "      <td>3</td>\n",
              "      <td>0.0</td>\n",
              "      <td>1.0</td>\n",
              "      <td>82</td>\n",
              "      <td>Alphavile</td>\n",
              "      <td>650000</td>\n",
              "      <td>7926.83</td>\n",
              "    </tr>\n",
              "    <tr>\n",
              "      <th>1994</th>\n",
              "      <td>700</td>\n",
              "      <td>3</td>\n",
              "      <td>1.0</td>\n",
              "      <td>1.0</td>\n",
              "      <td>100</td>\n",
              "      <td>Alphavile</td>\n",
              "      <td>629900</td>\n",
              "      <td>6299.00</td>\n",
              "    </tr>\n",
              "    <tr>\n",
              "      <th>1995</th>\n",
              "      <td>1850</td>\n",
              "      <td>3</td>\n",
              "      <td>1.0</td>\n",
              "      <td>2.0</td>\n",
              "      <td>166</td>\n",
              "      <td>Alphavile</td>\n",
              "      <td>1600000</td>\n",
              "      <td>9638.55</td>\n",
              "    </tr>\n",
              "    <tr>\n",
              "      <th>1996</th>\n",
              "      <td>800</td>\n",
              "      <td>3</td>\n",
              "      <td>1.0</td>\n",
              "      <td>1.0</td>\n",
              "      <td>107</td>\n",
              "      <td>Alphavile</td>\n",
              "      <td>540000</td>\n",
              "      <td>5046.73</td>\n",
              "    </tr>\n",
              "  </tbody>\n",
              "</table>\n",
              "</div>"
            ],
            "text/plain": [
              "      condominio  quartos  suites  vagas  area     bairro    preco      pm2\n",
              "1992        1080        3     1.0    1.0    80  Alphavile   680000  8500.00\n",
              "1993         750        3     0.0    1.0    82  Alphavile   650000  7926.83\n",
              "1994         700        3     1.0    1.0   100  Alphavile   629900  6299.00\n",
              "1995        1850        3     1.0    2.0   166  Alphavile  1600000  9638.55\n",
              "1996         800        3     1.0    1.0   107  Alphavile   540000  5046.73"
            ]
          },
          "metadata": {
            "tags": []
          },
          "execution_count": 32
        }
      ]
    },
    {
      "cell_type": "code",
      "metadata": {
        "colab": {
          "base_uri": "https://localhost:8080/"
        },
        "id": "S2FSDxbYvwuA",
        "outputId": "b81ac0ad-6c5c-478c-933c-bba342e4d447"
      },
      "source": [
        "df['bairro'].unique()\r\n",
        "df['bairro'].value_counts(normalize=True)"
      ],
      "execution_count": 36,
      "outputs": [
        {
          "output_type": "execute_result",
          "data": {
            "text/plain": [
              "Itaim            0.173260\n",
              "Alphavile        0.170756\n",
              "Campo Belo       0.153731\n",
              "Jardins          0.140711\n",
              "Jardim Europa    0.140210\n",
              "Tatuapé          0.118678\n",
              "Moema            0.102654\n",
              "Name: bairro, dtype: float64"
            ]
          },
          "metadata": {
            "tags": []
          },
          "execution_count": 36
        }
      ]
    },
    {
      "cell_type": "code",
      "metadata": {
        "colab": {
          "base_uri": "https://localhost:8080/"
        },
        "id": "XwvlfKFYwZd2",
        "outputId": "2403d500-0629-48a7-9ea4-89e9e8bd1726"
      },
      "source": [
        "df.groupby('bairro').mean()\r\n",
        "df.groupby('bairro').mean()['area']\r\n",
        "df.groupby('bairro').mean()['area'].sort_values()"
      ],
      "execution_count": 39,
      "outputs": [
        {
          "output_type": "execute_result",
          "data": {
            "text/plain": [
              "bairro\n",
              "Tatuapé           79.949367\n",
              "Alphavile         81.457478\n",
              "Campo Belo        83.837134\n",
              "Moema             88.497561\n",
              "Jardim Europa     91.832143\n",
              "Jardins          100.615658\n",
              "Itaim            101.855491\n",
              "Name: area, dtype: float64"
            ]
          },
          "metadata": {
            "tags": []
          },
          "execution_count": 39
        }
      ]
    },
    {
      "cell_type": "code",
      "metadata": {
        "colab": {
          "base_uri": "https://localhost:8080/"
        },
        "id": "iT963eXsxKdP",
        "outputId": "2e4fdd78-0cf1-46e3-930f-d8705e6ef88c"
      },
      "source": [
        "def truncar(bairro):\r\n",
        "  return bairro[:4]\r\n",
        "## aplico uma função a uma determinada coluna do dataframe \r\n",
        "df['bairro'].apply(truncar)"
      ],
      "execution_count": 40,
      "outputs": [
        {
          "output_type": "execute_result",
          "data": {
            "text/plain": [
              "0       Camp\n",
              "1       Camp\n",
              "2       Camp\n",
              "3       Camp\n",
              "4       Camp\n",
              "        ... \n",
              "1992    Alph\n",
              "1993    Alph\n",
              "1994    Alph\n",
              "1995    Alph\n",
              "1996    Alph\n",
              "Name: bairro, Length: 1997, dtype: object"
            ]
          },
          "metadata": {
            "tags": []
          },
          "execution_count": 40
        }
      ]
    },
    {
      "cell_type": "code",
      "metadata": {
        "id": "wXqoPhpOyelT"
      },
      "source": [
        "## usando função lambda (no codigo e anonima)\r\n",
        "##As funções lambda são sempre opcionais, tudo que fazemos com ela, podemos fazer também com uma função normal.\r\n",
        "## O uso de expressões lambda permite que você possa representar a lógica de uma função sem precisar defini-la explicitamente. \r\n",
        "##Isso pode deixar o código mais facil, mais claro e mais rápido de ser lido\r\n",
        "df['bairro'].apply(lambda x: x[:4])"
      ],
      "execution_count": null,
      "outputs": []
    },
    {
      "cell_type": "code",
      "metadata": {
        "colab": {
          "base_uri": "https://localhost:8080/",
          "height": 166
        },
        "id": "6sVyIvHS2bmd",
        "outputId": "fd024df0-cd36-4be0-d1ee-4139b7d7e25a"
      },
      "source": [
        "df2 = df.head()\r\n",
        "## substituir um valor por nulo \r\n",
        "df2=df2.replace({'pm2': {12031.25: np.nan}})\r\n",
        "## excluir registro com null\r\n",
        "df2.dropna()"
      ],
      "execution_count": 49,
      "outputs": [
        {
          "output_type": "execute_result",
          "data": {
            "text/html": [
              "<div>\n",
              "<style scoped>\n",
              "    .dataframe tbody tr th:only-of-type {\n",
              "        vertical-align: middle;\n",
              "    }\n",
              "\n",
              "    .dataframe tbody tr th {\n",
              "        vertical-align: top;\n",
              "    }\n",
              "\n",
              "    .dataframe thead th {\n",
              "        text-align: right;\n",
              "    }\n",
              "</style>\n",
              "<table border=\"1\" class=\"dataframe\">\n",
              "  <thead>\n",
              "    <tr style=\"text-align: right;\">\n",
              "      <th></th>\n",
              "      <th>condominio</th>\n",
              "      <th>quartos</th>\n",
              "      <th>suites</th>\n",
              "      <th>vagas</th>\n",
              "      <th>area</th>\n",
              "      <th>bairro</th>\n",
              "      <th>preco</th>\n",
              "      <th>pm2</th>\n",
              "    </tr>\n",
              "  </thead>\n",
              "  <tbody>\n",
              "    <tr>\n",
              "      <th>0</th>\n",
              "      <td>350</td>\n",
              "      <td>1</td>\n",
              "      <td>0.0</td>\n",
              "      <td>1.0</td>\n",
              "      <td>21</td>\n",
              "      <td>Campo Belo</td>\n",
              "      <td>340000</td>\n",
              "      <td>16190.48</td>\n",
              "    </tr>\n",
              "    <tr>\n",
              "      <th>2</th>\n",
              "      <td>674</td>\n",
              "      <td>1</td>\n",
              "      <td>0.0</td>\n",
              "      <td>1.0</td>\n",
              "      <td>61</td>\n",
              "      <td>Campo Belo</td>\n",
              "      <td>600000</td>\n",
              "      <td>9836.07</td>\n",
              "    </tr>\n",
              "    <tr>\n",
              "      <th>3</th>\n",
              "      <td>700</td>\n",
              "      <td>1</td>\n",
              "      <td>1.0</td>\n",
              "      <td>1.0</td>\n",
              "      <td>70</td>\n",
              "      <td>Campo Belo</td>\n",
              "      <td>700000</td>\n",
              "      <td>10000.00</td>\n",
              "    </tr>\n",
              "    <tr>\n",
              "      <th>4</th>\n",
              "      <td>440</td>\n",
              "      <td>1</td>\n",
              "      <td>0.0</td>\n",
              "      <td>1.0</td>\n",
              "      <td>44</td>\n",
              "      <td>Campo Belo</td>\n",
              "      <td>515000</td>\n",
              "      <td>11704.55</td>\n",
              "    </tr>\n",
              "  </tbody>\n",
              "</table>\n",
              "</div>"
            ],
            "text/plain": [
              "   condominio  quartos  suites  vagas  area      bairro   preco       pm2\n",
              "0         350        1     0.0    1.0    21  Campo Belo  340000  16190.48\n",
              "2         674        1     0.0    1.0    61  Campo Belo  600000   9836.07\n",
              "3         700        1     1.0    1.0    70  Campo Belo  700000  10000.00\n",
              "4         440        1     0.0    1.0    44  Campo Belo  515000  11704.55"
            ]
          },
          "metadata": {
            "tags": []
          },
          "execution_count": 49
        }
      ]
    },
    {
      "cell_type": "code",
      "metadata": {
        "colab": {
          "base_uri": "https://localhost:8080/",
          "height": 195
        },
        "id": "BI-TBk0V3zFa",
        "outputId": "d5bece65-1a69-4d01-b55f-f77de94eb9ca"
      },
      "source": [
        "df2.fillna(9500) ## substitui o null por este valor mas em todas as colunas\r\n",
        "df2['pm2'].fillna(9500) ##agora substitui apenas na columa pm2\r\n",
        "df2['pm2'].fillna(df['pm2'].mean(), inplace=True) ## inplace substitui no dataframe\r\n",
        "df2"
      ],
      "execution_count": 51,
      "outputs": [
        {
          "output_type": "execute_result",
          "data": {
            "text/html": [
              "<div>\n",
              "<style scoped>\n",
              "    .dataframe tbody tr th:only-of-type {\n",
              "        vertical-align: middle;\n",
              "    }\n",
              "\n",
              "    .dataframe tbody tr th {\n",
              "        vertical-align: top;\n",
              "    }\n",
              "\n",
              "    .dataframe thead th {\n",
              "        text-align: right;\n",
              "    }\n",
              "</style>\n",
              "<table border=\"1\" class=\"dataframe\">\n",
              "  <thead>\n",
              "    <tr style=\"text-align: right;\">\n",
              "      <th></th>\n",
              "      <th>condominio</th>\n",
              "      <th>quartos</th>\n",
              "      <th>suites</th>\n",
              "      <th>vagas</th>\n",
              "      <th>area</th>\n",
              "      <th>bairro</th>\n",
              "      <th>preco</th>\n",
              "      <th>pm2</th>\n",
              "    </tr>\n",
              "  </thead>\n",
              "  <tbody>\n",
              "    <tr>\n",
              "      <th>0</th>\n",
              "      <td>350</td>\n",
              "      <td>1</td>\n",
              "      <td>0.0</td>\n",
              "      <td>1.0</td>\n",
              "      <td>21</td>\n",
              "      <td>Campo Belo</td>\n",
              "      <td>340000</td>\n",
              "      <td>16190.48000</td>\n",
              "    </tr>\n",
              "    <tr>\n",
              "      <th>1</th>\n",
              "      <td>800</td>\n",
              "      <td>1</td>\n",
              "      <td>0.0</td>\n",
              "      <td>1.0</td>\n",
              "      <td>64</td>\n",
              "      <td>Campo Belo</td>\n",
              "      <td>770000</td>\n",
              "      <td>13256.74635</td>\n",
              "    </tr>\n",
              "    <tr>\n",
              "      <th>2</th>\n",
              "      <td>674</td>\n",
              "      <td>1</td>\n",
              "      <td>0.0</td>\n",
              "      <td>1.0</td>\n",
              "      <td>61</td>\n",
              "      <td>Campo Belo</td>\n",
              "      <td>600000</td>\n",
              "      <td>9836.07000</td>\n",
              "    </tr>\n",
              "    <tr>\n",
              "      <th>3</th>\n",
              "      <td>700</td>\n",
              "      <td>1</td>\n",
              "      <td>1.0</td>\n",
              "      <td>1.0</td>\n",
              "      <td>70</td>\n",
              "      <td>Campo Belo</td>\n",
              "      <td>700000</td>\n",
              "      <td>10000.00000</td>\n",
              "    </tr>\n",
              "    <tr>\n",
              "      <th>4</th>\n",
              "      <td>440</td>\n",
              "      <td>1</td>\n",
              "      <td>0.0</td>\n",
              "      <td>1.0</td>\n",
              "      <td>44</td>\n",
              "      <td>Campo Belo</td>\n",
              "      <td>515000</td>\n",
              "      <td>11704.55000</td>\n",
              "    </tr>\n",
              "  </tbody>\n",
              "</table>\n",
              "</div>"
            ],
            "text/plain": [
              "   condominio  quartos  suites  vagas  area      bairro   preco          pm2\n",
              "0         350        1     0.0    1.0    21  Campo Belo  340000  16190.48000\n",
              "1         800        1     0.0    1.0    64  Campo Belo  770000  13256.74635\n",
              "2         674        1     0.0    1.0    61  Campo Belo  600000   9836.07000\n",
              "3         700        1     1.0    1.0    70  Campo Belo  700000  10000.00000\n",
              "4         440        1     0.0    1.0    44  Campo Belo  515000  11704.55000"
            ]
          },
          "metadata": {
            "tags": []
          },
          "execution_count": 51
        }
      ]
    }
  ]
}